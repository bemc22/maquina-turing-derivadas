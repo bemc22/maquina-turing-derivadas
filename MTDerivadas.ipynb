{
 "cells": [
  {
   "cell_type": "code",
   "execution_count": 1,
   "metadata": {},
   "outputs": [],
   "source": [
    "def to_latex(input):\n",
    "    res = \"\"\n",
    "    cont = 0\n",
    "    for i in input:\n",
    "        if(i!= '1'):\n",
    "            if(cont != 0):\n",
    "                res += str(cont)\n",
    "            res += i\n",
    "            cont = 0\n",
    "        else:\n",
    "            cont += 1\n",
    "    return res\n",
    "    "
   ]
  },
  {
   "cell_type": "code",
   "execution_count": 4,
   "metadata": {},
   "outputs": [],
   "source": [
    "from MTfunctions import *\n",
    "import matplotlib.pyplot as plt\n",
    "from IPython.display import clear_output\n",
    "\n",
    "\n",
    "\n",
    "def MTTM(myInput, tapes, numTapes):\n",
    "    \n",
    "    states = {'q0', 'q1', 'q2', 'q3', 'q4','q5','q6','q7'}\n",
    "    input_symbols = {'x','^','{','}','1'}\n",
    "    \n",
    "    transitions = {\n",
    "        'q0': {\n",
    "            ('x',''):('q1', ('x',''), ('r','s'))\n",
    "        },\n",
    "        \n",
    "        'q1': {\n",
    "            ('^',''):('q2', ('^',''), ('r','s'))\n",
    "        },\n",
    "        \n",
    "        'q2': {\n",
    "            ('{',''):('q3', ('{',''), ('r','s'))\n",
    "        },\n",
    "        \n",
    "         'q3': {\n",
    "            ('1',''):('q3', ('1','1'), ('r','r')),\n",
    "            ('}',''):('q4', ('}',''), ('l','s'))\n",
    "        },\n",
    "        \n",
    "         'q4': {\n",
    "            ('1',''):('q4', ('1',''), ('l','s')),\n",
    "            ('{',''):('q4', ('{',''), ('l','s')),\n",
    "            ('^',''):('q4', ('^',''), ('l','s')),\n",
    "            ('x',''):('q4', ('x',''), ('l','s')),\n",
    "            ('',''):('q5', ('',''), ('r','s')),\n",
    "        },\n",
    "        \n",
    "        'q5': {\n",
    "            ('x',''):('q5', ('x','x'), ('r','r')),\n",
    "            ('^',''):('q5', ('^','^'), ('r','r')),\n",
    "            ('{',''):('q5', ('{','{'), ('r','r')),\n",
    "            ('1',''):('q6', ('1',''), ('r','s'))\n",
    "        },\n",
    "        \n",
    "        'q6': {\n",
    "            ('1',''):('q6', ('1','1'), ('r','r')),\n",
    "            ('}',''):('q7', ('}','}'), ('r','r'))\n",
    "        },\n",
    "        \n",
    "        'q7': {\n",
    "            ('',''):('q7', ('',''), ('r','r'))\n",
    "        },\n",
    "        \n",
    "    \n",
    "     \n",
    "    }\n",
    "    \n",
    "    initial_state = 'q0'\n",
    "    final_states = {'q7'}\n",
    "    \n",
    "    cinta2 = validate(tapes,numTapes,myInput,input_symbols,states,transitions,initial_state,final_states)\n",
    "    ecuacion = to_latex(myInput)\n",
    "    derivada = to_latex(cinta2)\n",
    "    print(\"\\n\")\n",
    "    plt.text(0,2,'$Ecuación\\:aceptada!$',size=40)\n",
    "    plt.text(0,1.7,'$La\\:derivada\\:de: %s$' %ecuacion,size=40)\n",
    "    plt.text(0,1.4,'$Es: %s$' %derivada,size=40)\n",
    "\n",
    "    \n",
    "    plt.axis('off')"
   ]
  },
  {
   "cell_type": "code",
   "execution_count": 5,
   "metadata": {},
   "outputs": [
    {
     "name": "stdout",
     "output_type": "stream",
     "text": [
      "Creating 2 tapes.\n",
      "\n",
      "Reading input...\n",
      "tape1: ['', '1', 'x', '^', '{', '1', '1', '1', '1', '}', '']\n",
      "tape2: ['', '', '', '', '', '', '', '', '', '', '', '', '', '', '', '', '', '', '', '', '', '', '', '', '', '', '', '', '', '', '', '', '', '', '', '', '', '', '', '', '', '', '', '', '', '', '', '', '', '', '', '', '', '', '', '', '', '', '', '', '', '', '', '', '', '', '', '', '', '', '', '', '', '', '', '', '', '', '', '', '', '', '', '', '', '', '', '', '', '', '', '', '', '', '', '', '', '', '', '', '', '', '', '', '', '', '', '', '', '', '', '', '', '', '', '', '', '', '', '', '', '', '', '', '', '', '', '', '', '', '', '', '', '', '', '', '', '', '', '', '', '', '', '', '', '', '', '', '', '', '', '', '', '', '', '', '', '', '', '', '', '', '', '', '', '', '', '', '', '', '', '', '', '', '', '', '', '', '', '', '', '', '', '', '', '', '', '', '', '', '', '', '', '', '', '', '', '', '', '', '', '', '', '', '', '', '', '', '', '', '', '', '', '', '', '', '', '', '', '', '', '', '', '', '', '', '', '', '', '', '', '', '', '', '', '', '', '', '', '', '', '', '', '', '', '', '', '', '', '', '', '', '', '', '', '', '', '', '', '', '', '', '', '', '', '', '', '', '', '', '', '', '', '', '', '', '', '', '', '', '', '', '', '', '', '', '', '', '', '', '', '', '', '', '', '', '', '', '', '', '', '', '', '', '', '', '', '', '', '', '', '', '', '', '', '', '', '', '', '', '', '', '', '', '', '', '', '', '', '', '', '', '', '', '', '', '', '', '', '', '', '', '', '', '', '', '', '', '', '', '', '', '', '', '', '', '', '', '', '', '', '', '', '', '', '', '', '', '', '', '', '', '', '', '', '', '', '', '', '', '', '', '', '', '', '', '', '', '', '', '', '', '', '', '', '', '', '', '', '', '', '', '', '', '', '', '', '', '', '', '', '', '', '', '', '', '', '', '', '', '', '', '', '', '', '', '', '', '', '', '', '', '', '', '', '', '', '', '', '', '', '', '', '', '', '', '', '', '', '', '', '', '', '', '', '', '', '', '', '', '', '', '', '', '', '', '', '', '', '', '', '', '', '', '', '', '', '', '', '', '', '', '', '', '', '', '', '', '', '', '', '', '', '', '', '', '', '', '', '', '', '', '', '', '', '', '', '', '', '', '', '', '', '', '', '', '', '', '', '', '', '', '', '', '', '', '', '', '', '', '', '', '', '', '', '', '', '', '', '', '', '', '', '', '', '', '', '', '', '', '', '', '', '', '', '', '', '', '', '', '', '', '', '', '', '', '', '', '', '', '', '', '', '', '', '', '', '', '', '', '', '', '', '', '', '', '', '', '', '', '', '', '', '', '', '', '', '', '', '', '', '', '', '', '', '', '', '', '', '', '', '', '', '', '', '', '', '', '', '', '', '', '', '', '', '', '', '', '', '', '', '', '', '', '', '', '', '', '', '', '', '', '', '', '', '', '', '', '', '', '', '', '', '', '', '', '', '', '', '', '', '', '', '', '', '', '']\n",
      "\n",
      "Validating input...\n",
      "Validating states...\n",
      "\n",
      "Processing...\n",
      "ERROR: there is not a transition for  ('1', '')\n"
     ]
    },
    {
     "ename": "TypeError",
     "evalue": "'int' object is not iterable",
     "output_type": "error",
     "traceback": [
      "\u001b[1;31m---------------------------------------------------------------------------\u001b[0m",
      "\u001b[1;31mTypeError\u001b[0m                                 Traceback (most recent call last)",
      "\u001b[1;32m<ipython-input-5-5f8eca99f0ed>\u001b[0m in \u001b[0;36m<module>\u001b[1;34m()\u001b[0m\n\u001b[0;32m      3\u001b[0m \u001b[0mnumTapes\u001b[0m \u001b[1;33m=\u001b[0m \u001b[1;36m2\u001b[0m\u001b[1;33m\u001b[0m\u001b[0m\n\u001b[0;32m      4\u001b[0m \u001b[1;33m\u001b[0m\u001b[0m\n\u001b[1;32m----> 5\u001b[1;33m \u001b[0mMTTM\u001b[0m\u001b[1;33m(\u001b[0m\u001b[0mmyInput\u001b[0m\u001b[1;33m,\u001b[0m \u001b[0mmyTapes\u001b[0m\u001b[1;33m,\u001b[0m \u001b[0mnumTapes\u001b[0m\u001b[1;33m)\u001b[0m\u001b[1;33m\u001b[0m\u001b[0m\n\u001b[0m",
      "\u001b[1;32m<ipython-input-4-48e86f287a09>\u001b[0m in \u001b[0;36mMTTM\u001b[1;34m(myInput, tapes, numTapes)\u001b[0m\n\u001b[0;32m     61\u001b[0m     \u001b[0mcinta2\u001b[0m \u001b[1;33m=\u001b[0m \u001b[0mvalidate\u001b[0m\u001b[1;33m(\u001b[0m\u001b[0mtapes\u001b[0m\u001b[1;33m,\u001b[0m\u001b[0mnumTapes\u001b[0m\u001b[1;33m,\u001b[0m\u001b[0mmyInput\u001b[0m\u001b[1;33m,\u001b[0m\u001b[0minput_symbols\u001b[0m\u001b[1;33m,\u001b[0m\u001b[0mstates\u001b[0m\u001b[1;33m,\u001b[0m\u001b[0mtransitions\u001b[0m\u001b[1;33m,\u001b[0m\u001b[0minitial_state\u001b[0m\u001b[1;33m,\u001b[0m\u001b[0mfinal_states\u001b[0m\u001b[1;33m)\u001b[0m\u001b[1;33m\u001b[0m\u001b[0m\n\u001b[0;32m     62\u001b[0m     \u001b[0mecuacion\u001b[0m \u001b[1;33m=\u001b[0m \u001b[0mto_latex\u001b[0m\u001b[1;33m(\u001b[0m\u001b[0mmyInput\u001b[0m\u001b[1;33m)\u001b[0m\u001b[1;33m\u001b[0m\u001b[0m\n\u001b[1;32m---> 63\u001b[1;33m     \u001b[0mderivada\u001b[0m \u001b[1;33m=\u001b[0m \u001b[0mto_latex\u001b[0m\u001b[1;33m(\u001b[0m\u001b[0mcinta2\u001b[0m\u001b[1;33m)\u001b[0m\u001b[1;33m\u001b[0m\u001b[0m\n\u001b[0m\u001b[0;32m     64\u001b[0m     \u001b[0mprint\u001b[0m\u001b[1;33m(\u001b[0m\u001b[1;34m\"\\n\"\u001b[0m\u001b[1;33m)\u001b[0m\u001b[1;33m\u001b[0m\u001b[0m\n\u001b[0;32m     65\u001b[0m     \u001b[0mplt\u001b[0m\u001b[1;33m.\u001b[0m\u001b[0mtext\u001b[0m\u001b[1;33m(\u001b[0m\u001b[1;36m0\u001b[0m\u001b[1;33m,\u001b[0m\u001b[1;36m2\u001b[0m\u001b[1;33m,\u001b[0m\u001b[1;34m'$Ecuación\\:aceptada!$'\u001b[0m\u001b[1;33m,\u001b[0m\u001b[0msize\u001b[0m\u001b[1;33m=\u001b[0m\u001b[1;36m40\u001b[0m\u001b[1;33m)\u001b[0m\u001b[1;33m\u001b[0m\u001b[0m\n",
      "\u001b[1;32m<ipython-input-1-5af6af88eebd>\u001b[0m in \u001b[0;36mto_latex\u001b[1;34m(input)\u001b[0m\n\u001b[0;32m      2\u001b[0m     \u001b[0mres\u001b[0m \u001b[1;33m=\u001b[0m \u001b[1;34m\"\"\u001b[0m\u001b[1;33m\u001b[0m\u001b[0m\n\u001b[0;32m      3\u001b[0m     \u001b[0mcont\u001b[0m \u001b[1;33m=\u001b[0m \u001b[1;36m0\u001b[0m\u001b[1;33m\u001b[0m\u001b[0m\n\u001b[1;32m----> 4\u001b[1;33m     \u001b[1;32mfor\u001b[0m \u001b[0mi\u001b[0m \u001b[1;32min\u001b[0m \u001b[0minput\u001b[0m\u001b[1;33m:\u001b[0m\u001b[1;33m\u001b[0m\u001b[0m\n\u001b[0m\u001b[0;32m      5\u001b[0m         \u001b[1;32mif\u001b[0m\u001b[1;33m(\u001b[0m\u001b[0mi\u001b[0m\u001b[1;33m!=\u001b[0m \u001b[1;34m'1'\u001b[0m\u001b[1;33m)\u001b[0m\u001b[1;33m:\u001b[0m\u001b[1;33m\u001b[0m\u001b[0m\n\u001b[0;32m      6\u001b[0m             \u001b[1;32mif\u001b[0m\u001b[1;33m(\u001b[0m\u001b[0mcont\u001b[0m \u001b[1;33m!=\u001b[0m \u001b[1;36m0\u001b[0m\u001b[1;33m)\u001b[0m\u001b[1;33m:\u001b[0m\u001b[1;33m\u001b[0m\u001b[0m\n",
      "\u001b[1;31mTypeError\u001b[0m: 'int' object is not iterable"
     ]
    }
   ],
   "source": [
    "myInput = \"1x^{1111}\"\n",
    "myTapes = []\n",
    "numTapes = 2\n",
    "\n",
    "MTTM(myInput, myTapes, numTapes)"
   ]
  },
  {
   "cell_type": "code",
   "execution_count": null,
   "metadata": {},
   "outputs": [],
   "source": []
  },
  {
   "cell_type": "code",
   "execution_count": null,
   "metadata": {},
   "outputs": [],
   "source": []
  }
 ],
 "metadata": {
  "kernelspec": {
   "display_name": "Python 3",
   "language": "python",
   "name": "python3"
  },
  "language_info": {
   "codemirror_mode": {
    "name": "ipython",
    "version": 3
   },
   "file_extension": ".py",
   "mimetype": "text/x-python",
   "name": "python",
   "nbconvert_exporter": "python",
   "pygments_lexer": "ipython3",
   "version": "3.6.5"
  }
 },
 "nbformat": 4,
 "nbformat_minor": 2
}
