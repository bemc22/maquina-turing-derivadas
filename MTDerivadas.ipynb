{
 "cells": [
  {
   "cell_type": "code",
   "execution_count": 26,
   "metadata": {},
   "outputs": [],
   "source": [
    "def to_latex(input):\n",
    "    res = ''\n",
    "    cont = 0\n",
    "    for i in input:\n",
    "        if(i!= '1'):\n",
    "            if(cont != 0):\n",
    "                res += str(cont)\n",
    "            res += i\n",
    "            cont = 0\n",
    "        else:\n",
    "            cont += 1\n",
    "    return res\n",
    "    "
   ]
  },
  {
   "cell_type": "code",
   "execution_count": 37,
   "metadata": {},
   "outputs": [],
   "source": [
    "from MTfunctions import *\n",
    "from IPython.display import display, Markdown\n",
    "from IPython.display import clear_output\n",
    "\n",
    "\n",
    "\n",
    "def MTTM(myInput, tapes, numTapes):\n",
    "    \n",
    "    states = {'q0', 'q1', 'q2', 'q3', 'q4','q5','q6','q7'}\n",
    "    input_symbols = {'x','^','{','}','1'}\n",
    "    \n",
    "    transitions = {\n",
    "        'q0': {\n",
    "            ('x',''):('q1', ('x',''), ('r','s'))\n",
    "        },\n",
    "        \n",
    "        'q1': {\n",
    "            ('^',''):('q2', ('^',''), ('r','s'))\n",
    "        },\n",
    "        \n",
    "        'q2': {\n",
    "            ('{',''):('q3', ('{',''), ('r','s'))\n",
    "        },\n",
    "        \n",
    "         'q3': {\n",
    "            ('1',''):('q3', ('1','1'), ('r','r')),\n",
    "            ('}',''):('q4', ('}',''), ('l','s'))\n",
    "        },\n",
    "        \n",
    "         'q4': {\n",
    "            ('1',''):('q4', ('1',''), ('l','s')),\n",
    "            ('{',''):('q4', ('{',''), ('l','s')),\n",
    "            ('^',''):('q4', ('^',''), ('l','s')),\n",
    "            ('x',''):('q4', ('x',''), ('l','s')),\n",
    "            ('',''):('q5', ('',''), ('r','s')),\n",
    "        },\n",
    "        \n",
    "        'q5': {\n",
    "            ('x',''):('q5', ('x','x'), ('r','r')),\n",
    "            ('^',''):('q5', ('^','^'), ('r','r')),\n",
    "            ('{',''):('q5', ('{','{'), ('r','r')),\n",
    "            ('1',''):('q6', ('1',''), ('r','s'))\n",
    "        },\n",
    "        \n",
    "        'q6': {\n",
    "            ('1',''):('q6', ('1','1'), ('r','r')),\n",
    "            ('}',''):('q7', ('}','}'), ('r','r'))\n",
    "        },\n",
    "        \n",
    "        'q7': {\n",
    "            ('',''):('q7', ('',''), ('r','r'))\n",
    "        },\n",
    "        \n",
    "    \n",
    "     \n",
    "    }\n",
    "    \n",
    "    initial_state = 'q0'\n",
    "    final_states = {'q7'}\n",
    "    \n",
    "    cinta2 = validate(tapes,numTapes,myInput,input_symbols,states,transitions,initial_state,final_states)\n",
    "    ecuacion = to_latex(myInput)\n",
    "    derivada = to_latex(cinta2)\n",
    "    display(Markdown(rf\"\"\"\n",
    "Ecuación aceptada!\n",
    "\n",
    "La derivada de: ${ecuacion}$\n",
    "\n",
    "Es: ${derivada}$\n",
    "    \n",
    "    \"\"\"))\n",
    "\n",
    "    \n",
    "    plt.axis('off')"
   ]
  },
  {
   "cell_type": "code",
   "execution_count": 38,
   "metadata": {},
   "outputs": [
    {
     "name": "stdout",
     "output_type": "stream",
     "text": [
      "\n",
      "-----------------------------------\n",
      "Good!, the input word is accepted!\n",
      "-----------------------------------\n"
     ]
    },
    {
     "data": {
      "text/markdown": [
       "\n",
       "Ecuación aceptada!\n",
       "\n",
       "La derivada de: $x^{4}$\n",
       "\n",
       "Es: $4x^{3}$\n",
       "    \n",
       "    "
      ],
      "text/plain": [
       "<IPython.core.display.Markdown object>"
      ]
     },
     "metadata": {},
     "output_type": "display_data"
    },
    {
     "data": {
      "image/png": "[encoded data removed]",
      "text/plain": [
       "<Figure size 432x288 with 1 Axes>"
      ]
     },
     "metadata": {},
     "output_type": "display_data"
    }
   ],
   "source": [
    "myInput = \"x^{1111}\"\n",
    "myTapes = []\n",
    "numTapes = 2\n",
    "\n",
    "MTTM(myInput, myTapes, numTapes)"
   ]
  }
 ],
 "metadata": {
  "kernelspec": {
   "display_name": "Python 3",
   "language": "python",
   "name": "python3"
  },
  "language_info": {
   "codemirror_mode": {
    "name": "ipython",
    "version": 3
   },
   "file_extension": ".py",
   "mimetype": "text/x-python",
   "name": "python",
   "nbconvert_exporter": "python",
   "pygments_lexer": "ipython3",
   "version": "3.6.5"
  }
 },
 "nbformat": 4,
 "nbformat_minor": 2
}
